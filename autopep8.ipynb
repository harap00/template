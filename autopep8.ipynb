{
  "nbformat": 4,
  "nbformat_minor": 0,
  "metadata": {
    "colab": {
      "provenance": [],
      "authorship_tag": "ABX9TyPPqzwTrc9aDr+6f1+ORJ1Q",
      "include_colab_link": true
    },
    "kernelspec": {
      "name": "python3",
      "display_name": "Python 3"
    },
    "language_info": {
      "name": "python"
    }
  },
  "cells": [
    {
      "cell_type": "markdown",
      "metadata": {
        "id": "view-in-github",
        "colab_type": "text"
      },
      "source": [
        "<a href=\"https://colab.research.google.com/github/harap00/template/blob/main/autopep8.ipynb\" target=\"_parent\"><img src=\"https://colab.research.google.com/assets/colab-badge.svg\" alt=\"Open In Colab\"/></a>"
      ]
    },
    {
      "cell_type": "code",
      "source": [
        "import autopep8\n",
        "import isort\n",
        "from IPython.core.magic import register_cell_magic\n",
        "from yapf.yapflib.yapf_api import FormatCode\n",
        "\n",
        "\n",
        "@register_cell_magic\n",
        "def max_fmt(line, cell):\n",
        "    \"\"\"\n",
        "    My formatter cell magic comannd.\n",
        "    Please install autopep8, isort and yapf before using this magic command.\n",
        "    !pip install autopep8 isort yapf\n",
        "    \"\"\"\n",
        "    ret = isort.code(cell)\n",
        "    ret = autopep8.fix_code(ret)\n",
        "    print(FormatCode(ret, style_config='pep8')[0]) "
      ],
      "metadata": {
        "id": "TAM5l2gK_l73"
      },
      "execution_count": null,
      "outputs": []
    }
  ]
}