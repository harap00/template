{
  "nbformat": 4,
  "nbformat_minor": 0,
  "metadata": {
    "colab": {
      "provenance": [],
      "authorship_tag": "ABX9TyOW8uC35Vf0IHs+nII5Nwce",
      "include_colab_link": true
    },
    "kernelspec": {
      "name": "python3",
      "display_name": "Python 3"
    },
    "language_info": {
      "name": "python"
    }
  },
  "cells": [
    {
      "cell_type": "markdown",
      "metadata": {
        "id": "view-in-github",
        "colab_type": "text"
      },
      "source": [
        "<a href=\"https://colab.research.google.com/github/harap00/template/blob/main/autopep8.ipynb\" target=\"_parent\"><img src=\"https://colab.research.google.com/assets/colab-badge.svg\" alt=\"Open In Colab\"/></a>"
      ]
    },
    {
      "cell_type": "code",
      "source": [
        "!pip install yapf isort autopep8 | tail -n -1\n",
        "import autopep8\n",
        "import isort\n",
        "from IPython.core.magic import register_cell_magic\n",
        "from yapf.yapflib.yapf_api import FormatCode\n",
        "\n",
        "\n",
        "@register_cell_magic\n",
        "def max_fmt(line, cell):\n",
        "    \"\"\"\n",
        "    My formatter cell magic comannd.\n",
        "    Please install autopep8, isort and yapf before using this magic command.\n",
        "    !pip install autopep8 isort yapf\n",
        "    \"\"\"\n",
        "    ret = isort.code(cell)\n",
        "    ret = autopep8.fix_code(ret)\n",
        "    print(FormatCode(ret, style_config='pep8')[0]) "
      ],
      "metadata": {
        "id": "TAM5l2gK_l73",
        "colab": {
          "base_uri": "https://localhost:8080/"
        },
        "outputId": "b7de1325-203a-43b4-e2d1-a004d059cc23"
      },
      "execution_count": null,
      "outputs": [
        {
          "output_type": "stream",
          "name": "stdout",
          "text": [
            "Writing autopep8.py\n"
          ]
        }
      ]
    }
  ]
}