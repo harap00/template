{
  "nbformat": 4,
  "nbformat_minor": 0,
  "metadata": {
    "colab": {
      "provenance": [],
      "authorship_tag": "ABX9TyOsInKOUoUFMxQvSCA79vvP",
      "include_colab_link": true
    },
    "kernelspec": {
      "name": "python3",
      "display_name": "Python 3"
    },
    "language_info": {
      "name": "python"
    }
  },
  "cells": [
    {
      "cell_type": "markdown",
      "metadata": {
        "id": "view-in-github",
        "colab_type": "text"
      },
      "source": [
        "<a href=\"https://colab.research.google.com/github/harap00/template/blob/main/beatiful_soup.ipynb\" target=\"_parent\"><img src=\"https://colab.research.google.com/assets/colab-badge.svg\" alt=\"Open In Colab\"/></a>"
      ]
    },
    {
      "cell_type": "code",
      "execution_count": 1,
      "metadata": {
        "colab": {
          "base_uri": "https://localhost:8080/"
        },
        "id": "hl1MZOc82XH8",
        "outputId": "bcacc040-b1de-45f9-ea39-c26a6331a79c"
      },
      "outputs": [
        {
          "output_type": "execute_result",
          "data": {
            "text/plain": [
              "CompletedProcess(args='pip install html5lib | tail -n -1', returncode=0)"
            ]
          },
          "metadata": {},
          "execution_count": 1
        }
      ],
      "source": [
        "import subprocess\n",
        "\n",
        "subprocess.run(\"pip install beautifulsoup4 | tail -n -1\", shell=True)\n",
        "subprocess.run(\"pip install html5lib | tail -n -1\", shell=True)\n"
      ]
    },
    {
      "cell_type": "code",
      "source": [
        "from urllib import parse\n",
        "\n",
        "import requests\n",
        "from bs4 import BeautifulSoup"
      ],
      "metadata": {
        "id": "HTzhbvgT23VG"
      },
      "execution_count": 2,
      "outputs": []
    }
  ]
}