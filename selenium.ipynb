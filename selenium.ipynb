{
  "nbformat": 4,
  "nbformat_minor": 0,
  "metadata": {
    "colab": {
      "provenance": [],
      "authorship_tag": "ABX9TyOrBd8fzGOAkYulKa+ChO3U",
      "include_colab_link": true
    },
    "kernelspec": {
      "name": "python3",
      "display_name": "Python 3"
    },
    "language_info": {
      "name": "python"
    }
  },
  "cells": [
    {
      "cell_type": "markdown",
      "metadata": {
        "id": "view-in-github",
        "colab_type": "text"
      },
      "source": [
        "<a href=\"https://colab.research.google.com/github/harap00/template/blob/main/selenium.ipynb\" target=\"_parent\"><img src=\"https://colab.research.google.com/assets/colab-badge.svg\" alt=\"Open In Colab\"/></a>"
      ]
    },
    {
      "cell_type": "markdown",
      "source": [
        "# Seleniumを利用する際の初期処理"
      ],
      "metadata": {
        "id": "7q1LEbla8eeI"
      }
    },
    {
      "cell_type": "code",
      "execution_count": 1,
      "metadata": {
        "id": "1a_95wNa8Ucw"
      },
      "outputs": [],
      "source": [
        "import subprocess\n"
      ]
    },
    {
      "cell_type": "code",
      "source": [
        "shell_command = '''\n",
        "cat > /etc/apt/sources.list.d/debian.list <<'EOF'\n",
        "deb [arch=amd64 signed-by=/usr/share/keyrings/debian-buster.gpg] http://deb.debian.org/debian buster main\n",
        "deb [arch=amd64 signed-by=/usr/share/keyrings/debian-buster-updates.gpg] http://deb.debian.org/debian buster-updates main\n",
        "deb [arch=amd64 signed-by=/usr/share/keyrings/debian-security-buster.gpg] http://deb.debian.org/debian-security buster/updates main\n",
        "EOF\n",
        "apt-key adv --keyserver keyserver.ubuntu.com --recv-keys DCC9EFBF77E11517\n",
        "apt-key adv --keyserver keyserver.ubuntu.com --recv-keys 648ACFD622F3D138\n",
        "apt-key adv --keyserver keyserver.ubuntu.com --recv-keys 112695A0E562B32A\n",
        "apt-key export 77E11517 | gpg --dearmour -o /usr/share/keyrings/debian-buster.gpg \n",
        "apt-key export 22F3D138 | gpg --dearmour -o /usr/share/keyrings/debian-buster-updates.gpg \n",
        "apt-key export E562B32A | gpg --dearmour -o /usr/share/keyrings/debian-security-buster.gpg \n",
        "cat > /etc/apt/preferences.d/chromium.pref << 'EOF'\n",
        "Package: *\n",
        "Pin: release a=eoan\n",
        "Pin-Priority: 500\n",
        "Package: *\n",
        "Pin: origin \"deb.debian.org\"\n",
        "Pin-Priority: 300\n",
        "Package: chromium*\n",
        "Pin: origin \"deb.debian.org\"\n",
        "Pin-Priority: 700\n",
        "EOF\n",
        "apt-get update | tail -n -1\n",
        "apt-get install chromium chromium-driver | tail -n -1\n",
        "pip install -q selenium | tail -n -1\n",
        "'''"
      ],
      "metadata": {
        "id": "zqzPOIEs8l1d"
      },
      "execution_count": 2,
      "outputs": []
    },
    {
      "cell_type": "code",
      "source": [
        "_ = subprocess.run(shell_command, shell=True)\n",
        "print(f'return code: {_.returncode}')"
      ],
      "metadata": {
        "colab": {
          "base_uri": "https://localhost:8080/"
        },
        "id": "2NoSjpga8w6N",
        "outputId": "e225c995-e03a-4c0e-9d59-563de42b8edd"
      },
      "execution_count": 13,
      "outputs": [
        {
          "output_type": "stream",
          "name": "stdout",
          "text": [
            "return code: 0\n"
          ]
        }
      ]
    },
    {
      "cell_type": "code",
      "source": [
        "import time\n",
        "\n",
        "from selenium import webdriver\n",
        "from selenium.webdriver.common.by import By\n"
      ],
      "metadata": {
        "id": "b5Xgqi8j8xtu"
      },
      "execution_count": 14,
      "outputs": []
    },
    {
      "cell_type": "code",
      "source": [
        "# ブラウザをheadlessモード実行\n",
        "options = webdriver.ChromeOptions()\n",
        "\n",
        "#ヘッドレスモード（バックグラウンドで起動）で実行。コラボの場合、必須。\n",
        "options.add_argument('--headless')\n",
        "\n",
        "#サンドボックスモードの解除。これも必須。\n",
        "options.add_argument('--no-sandbox')\n",
        "\n",
        "# /dev/shmパーティションの使用を禁止し、\n",
        "# パーティションが小さすぎることによる、クラッシュを回避する。\n",
        "options.add_argument('--disable-dev-shm-usage')"
      ],
      "metadata": {
        "id": "tfH_E6Rk-Ciq"
      },
      "execution_count": 15,
      "outputs": []
    }
  ]
}